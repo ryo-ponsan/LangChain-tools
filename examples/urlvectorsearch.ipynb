{
  "cells": [
    {
      "cell_type": "markdown",
      "metadata": {
        "id": "nyItJDI7Gg3B"
      },
      "source": [
        "# URL vector search"
      ]
    },
    {
      "cell_type": "markdown",
      "metadata": {
        "id": "C7UNesmvGg3m"
      },
      "source": [
        "[![Open In Colab](https://colab.research.google.com/assets/colab-badge.svg)](https://colab.research.google.com/github/fuyu-quant/url-vector-search/blob/main/examples/urlvectorsearch.ipynb)"
      ]
    },
    {
      "cell_type": "code",
      "execution_count": null,
      "metadata": {
        "id": "iuvTQn39Gg3v"
      },
      "outputs": [],
      "source": [
        "%%capture\n",
        "!pip install git+https://github.com/fuyu-quant/url-vector-search.git"
      ]
    },
    {
      "cell_type": "code",
      "execution_count": null,
      "metadata": {
        "id": "WTgiUchjGg3z"
      },
      "outputs": [],
      "source": [
        "%%capture\n",
        "!pip install langchain==0.0.153\n",
        "!pip install llama-index==0.5.27\n",
        "!pip install openai==0.27.5\n",
        "!pip install qdrant-client==1.1.6"
      ]
    },
    {
      "cell_type": "code",
      "execution_count": null,
      "metadata": {
        "id": "5PXy6QpYGg30"
      },
      "outputs": [],
      "source": [
        "from urlvectorsearch import vectordatabase\n",
        "from urlvectorsearch import output\n",
        "\n",
        "import os\n",
        "\n",
        "os.environ[\"OPENAI_API_KEY\"] = \"YOUR_API_KEY\""
      ]
    },
    {
      "cell_type": "markdown",
      "metadata": {
        "id": "cE3nEnVqGg31"
      },
      "source": [
        "### ベクトルデータベースの作成"
      ]
    },
    {
      "cell_type": "code",
      "execution_count": null,
      "metadata": {
        "id": "kQcTH49_Gg33"
      },
      "outputs": [],
      "source": [
        "# メモリに保存する場合\n",
        "database = vectordatabase.create_vectordatabase()"
      ]
    },
    {
      "cell_type": "code",
      "execution_count": null,
      "metadata": {
        "id": "KsGtgYx7Gg34"
      },
      "outputs": [],
      "source": [
        "# ファイルに保存する場合\n",
        "# 好きなパスを指定してください\n",
        "path = '/content/qdrant'\n",
        "database = vectordatabase.create_vectordatabase(path = path)"
      ]
    },
    {
      "cell_type": "markdown",
      "metadata": {
        "id": "FVNYjnEsGg4B"
      },
      "source": [
        "### リンク先のテキストをデータベースに保存"
      ]
    },
    {
      "cell_type": "code",
      "execution_count": null,
      "metadata": {
        "id": "EkGX1icVGg4D"
      },
      "outputs": [],
      "source": [
        "urls = [\n",
        "    \"https://www.brainpad.co.jp/doors/knowledge/01_dx_natural_language_processing_1/\",    \n",
        "    \"https://www.brainpad.co.jp/doors/knowledge/01_quantitative_evaluation_year_2024_problem/\",   \n",
        "    \"https://www.brainpad.co.jp/doors/news_trend/logistics_industry_year_2024_problem/\",   \n",
        "]"
      ]
    },
    {
      "cell_type": "code",
      "execution_count": null,
      "metadata": {
        "id": "ejgsDUBEGg4E"
      },
      "outputs": [],
      "source": [
        "vectordatabase.add_text(urls, database)"
      ]
    },
    {
      "cell_type": "markdown",
      "metadata": {
        "id": "QaPn-KrXGg4F"
      },
      "source": [
        "### 出力方法"
      ]
    },
    {
      "cell_type": "markdown",
      "metadata": {
        "id": "Hc8IEtnyGg4G"
      },
      "source": [
        "* 類似している内容のリンクと説明文とスコア付きの出力"
      ]
    },
    {
      "cell_type": "code",
      "execution_count": null,
      "metadata": {
        "id": "zZ4OSL2AGg4H"
      },
      "outputs": [],
      "source": [
        "query = \"機械学習の取り組みについて\"\n",
        "# num_outputは登録したリンク先の数より小さく数にしてください\n",
        "output1 = output.description_output_with_scoer(database, query, num_output=3)"
      ]
    },
    {
      "cell_type": "code",
      "execution_count": null,
      "metadata": {
        "id": "CJO78f-eGg4I"
      },
      "outputs": [],
      "source": [
        "print(output1['description0'])\n",
        "print(output1['url0'])\n",
        "print(output1['score0'])\n",
        "print(output1['description1'])\n",
        "print(output1['url1'])\n",
        "print(output1['score1'])"
      ]
    },
    {
      "cell_type": "markdown",
      "metadata": {
        "id": "JcB1N1JAGg4J"
      },
      "source": [
        "* 類似している内容のリンクと説明文の出力"
      ]
    },
    {
      "cell_type": "code",
      "execution_count": null,
      "metadata": {
        "id": "Y5dWlpy5Gg4N"
      },
      "outputs": [],
      "source": [
        "query = \"最適化の取り組みについて\"\n",
        "# num_outputは登録したリンク先の数より小さく数にしてください\n",
        "output2 = output.description_output(database, query, num_output=3)"
      ]
    },
    {
      "cell_type": "code",
      "execution_count": null,
      "metadata": {
        "id": "lflIhpG4Gg4O"
      },
      "outputs": [],
      "source": [
        "print(output1['description0'])\n",
        "print(output1['url0'])\n",
        "print(output1['description1'])\n",
        "print(output1['url1'])"
      ]
    },
    {
      "cell_type": "markdown",
      "metadata": {
        "id": "rJjC1P4FGg4P"
      },
      "source": [
        "* 多様性を考慮したリンクと説明文の出力"
      ]
    },
    {
      "cell_type": "code",
      "execution_count": null,
      "metadata": {
        "id": "fO75UtJ8Gg4U"
      },
      "outputs": [],
      "source": [
        "query = \"機械学習の取り組みについて\"\n",
        "# num_outputは登録したリンク先の数より小さく数にしてください\n",
        "output3 = output.description_output_mmr(database, query, num_output=3, fetch_k_=10)"
      ]
    },
    {
      "cell_type": "code",
      "execution_count": null,
      "metadata": {
        "id": "iy62EswzGg4V"
      },
      "outputs": [],
      "source": [
        "print(output1['description0'])\n",
        "print(output1['url0'])\n",
        "print(output1['description1'])\n",
        "print(output1['url1'])"
      ]
    }
  ],
  "metadata": {
    "kernelspec": {
      "display_name": "Python 3.8.13 64-bit ('kaggle')",
      "language": "python",
      "name": "python3"
    },
    "language_info": {
      "name": "python",
      "version": "3.8.13"
    },
    "orig_nbformat": 4,
    "vscode": {
      "interpreter": {
        "hash": "0efafe6c13c226858b1e3209a708328284172effb51c12dbb0bda90f2bc21738"
      }
    },
    "colab": {
      "provenance": []
    }
  },
  "nbformat": 4,
  "nbformat_minor": 0
}